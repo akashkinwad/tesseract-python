{
 "cells": [
  {
   "cell_type": "code",
   "execution_count": 23,
   "metadata": {},
   "outputs": [],
   "source": [
    "import wand\n",
    "import cv2\n",
    "from PIL import Image, ImageEnhance, ImageFilter\n",
    "import PIL\n",
    "from wand import image\n",
    "from wand.image import Image as WImage\n",
    "import os\n",
    "import pytesseract\n",
    "from pathlib import Path    \n",
    "\n",
    "\n",
    "pytesseract.pytesseract.tesseract_cmd = '/usr/bin/tesseract'\n",
    "tessdata_dir_config = \"--tessdata-dir '/usr/share/tesseract-ocr/4.00/tessdata'\""
   ]
  },
  {
   "cell_type": "code",
   "execution_count": 84,
   "metadata": {},
   "outputs": [],
   "source": [
    "def files(path):  \n",
    "    for file in os.listdir(path):\n",
    "        yield os.path.join(path, file)\n",
    "        \n",
    "\n",
    "def enhance_image_dpi(image_with_path):\n",
    "    im = Image.open(image_with_path)\n",
    "    im.save(image_with_path, dpi=(300,300))\n",
    "    print('Enhanced the dpi of {}'.format(Path(image_with_path).name))\n",
    "\n",
    "\n",
    "def image_to_string(image_path):\n",
    "    return pytesseract.image_to_string(Image.open(image_path))\n",
    "    \n",
    "\n",
    "def image_to_box_file(image_path):\n",
    "    return pytesseract.image_to_boxes(Image.open(image_path))\n",
    "    \n",
    "\n",
    "def image_to_hocr_file(image_path):\n",
    "    return pytesseract.image_to_pdf_or_hocr(image_path, extension='hocr')\n",
    "\n"
   ]
  },
  {
   "cell_type": "code",
   "execution_count": 90,
   "metadata": {},
   "outputs": [
    {
     "name": "stdout",
     "output_type": "stream",
     "text": [
      "Enhanced the dpi of seventh_input.png\n",
      "Enhanced the dpi of second_input.png\n",
      "Enhanced the dpi of eighth_input.png\n",
      "Enhanced the dpi of fourth_input.png\n",
      "Enhanced the dpi of firth_input.png\n",
      "Enhanced the dpi of third_input.png\n",
      "Enhanced the dpi of sixth_input.png\n",
      "Enhanced the dpi of first_input.png\n"
     ]
    }
   ],
   "source": [
    "# Enhance the image dpi for better results\n",
    "# png_images if folder containing png images\n",
    "\n",
    "path = '/home/dl64/Desktop/png_images'\n",
    "\n",
    "for file in files(path):\n",
    "    if file.endswith('.png'):\n",
    "        enhance_image_dpi(file)\n"
   ]
  },
  {
   "cell_type": "code",
   "execution_count": 95,
   "metadata": {},
   "outputs": [],
   "source": [
    "# Creates the text, box, hocr for the image\n",
    "\n",
    "def base_file_name(file):\n",
    "    base_file, ext = os.path.splitext(file)\n",
    "    return base_file\n",
    "\n",
    "\n",
    "def create_file(base_file, text, file_format):\n",
    "    with open(base_file + file_format, 'w') as file:\n",
    "        file.write(text)\n",
    "        print('Created {} file : {}'.format(file_format, file.name))\n",
    "       \n",
    "        \n",
    "def create_hocr_file(base_file, hocr_data):\n",
    "    with open(base_file + '.hocr', 'wb') as file:\n",
    "        file.write(hocr_data)\n",
    "        print('Created hocr file : {}'.format(file.name))\n"
   ]
  },
  {
   "cell_type": "code",
   "execution_count": 99,
   "metadata": {},
   "outputs": [
    {
     "name": "stdout",
     "output_type": "stream",
     "text": [
      "Processing image ---- seventh_input.png\n",
      "Created .txt file : /home/dl64/Desktop/png_images/seventh_input.txt\n",
      "Created .box file : /home/dl64/Desktop/png_images/seventh_input.box\n",
      "Created hocr file : /home/dl64/Desktop/png_images/seventh_input.hocr\n",
      "Processing image ---- second_input.png\n",
      "Created .txt file : /home/dl64/Desktop/png_images/second_input.txt\n",
      "Created .box file : /home/dl64/Desktop/png_images/second_input.box\n",
      "Created hocr file : /home/dl64/Desktop/png_images/second_input.hocr\n",
      "Processing image ---- eighth_input.png\n",
      "Created .txt file : /home/dl64/Desktop/png_images/eighth_input.txt\n",
      "Created .box file : /home/dl64/Desktop/png_images/eighth_input.box\n",
      "Created hocr file : /home/dl64/Desktop/png_images/eighth_input.hocr\n",
      "Processing image ---- fourth_input.png\n",
      "Created .txt file : /home/dl64/Desktop/png_images/fourth_input.txt\n",
      "Created .box file : /home/dl64/Desktop/png_images/fourth_input.box\n",
      "Created hocr file : /home/dl64/Desktop/png_images/fourth_input.hocr\n",
      "Processing image ---- firth_input.png\n",
      "Created .txt file : /home/dl64/Desktop/png_images/firth_input.txt\n",
      "Created .box file : /home/dl64/Desktop/png_images/firth_input.box\n",
      "Created hocr file : /home/dl64/Desktop/png_images/firth_input.hocr\n",
      "Processing image ---- third_input.png\n",
      "Created .txt file : /home/dl64/Desktop/png_images/third_input.txt\n",
      "Created .box file : /home/dl64/Desktop/png_images/third_input.box\n",
      "Created hocr file : /home/dl64/Desktop/png_images/third_input.hocr\n",
      "Processing image ---- sixth_input.png\n",
      "Created .txt file : /home/dl64/Desktop/png_images/sixth_input.txt\n",
      "Created .box file : /home/dl64/Desktop/png_images/sixth_input.box\n",
      "Created hocr file : /home/dl64/Desktop/png_images/sixth_input.hocr\n",
      "Processing image ---- first_input.png\n",
      "Created .txt file : /home/dl64/Desktop/png_images/first_input.txt\n",
      "Created .box file : /home/dl64/Desktop/png_images/first_input.box\n",
      "Created hocr file : /home/dl64/Desktop/png_images/first_input.hocr\n"
     ]
    }
   ],
   "source": [
    "for file in files(path):\n",
    "    if file.endswith('.png'):\n",
    "        print('Processing image ---- {}'.format(os.path.basename(file)))\n",
    "        text = image_to_string(file)\n",
    "        box_data = image_to_box_file(file)\n",
    "        base_file = base_file_name(file)\n",
    "        hocr_data = image_to_hocr_file(image_path)\n",
    "        create_file(base_file, text, '.txt')\n",
    "        create_file(base_file, box_data, '.box')\n",
    "        create_hocr_file(base_file, hocr_data)"
   ]
  }
 ],
 "metadata": {
  "kernelspec": {
   "display_name": "Python 3",
   "language": "python",
   "name": "python3"
  },
  "language_info": {
   "codemirror_mode": {
    "name": "ipython",
    "version": 3
   },
   "file_extension": ".py",
   "mimetype": "text/x-python",
   "name": "python",
   "nbconvert_exporter": "python",
   "pygments_lexer": "ipython3",
   "version": "3.5.2"
  }
 },
 "nbformat": 4,
 "nbformat_minor": 2
}
